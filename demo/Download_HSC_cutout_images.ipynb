{
 "cells": [
  {
   "cell_type": "markdown",
   "metadata": {},
   "source": [
    "# This notebook is aimed at download HSC cutout images, with a galaxy catalog provided."
   ]
  },
  {
   "cell_type": "code",
   "execution_count": 1,
   "metadata": {},
   "outputs": [],
   "source": [
    "import os\n",
    "import urllib\n",
    "import glob\n",
    "import subprocess\n",
    "\n",
    "import numpy as np\n",
    "\n",
    "from ipywidgets import widgets\n",
    "\n",
    "import astropy.wcs as wcs\n",
    "from astropy.nddata import Cutout2D\n",
    "from astropy.io import fits\n",
    "from astropy.table import Table, Column"
   ]
  },
  {
   "cell_type": "code",
   "execution_count": 2,
   "metadata": {},
   "outputs": [],
   "source": [
    "path = '/Users/jiaxuanli/Research/HSC_Dragonfly_DECaLS/IntermediateZ/'\n",
    "os.chdir(path)\n",
    "if not os.path.isdir('Cutout'):\n",
    "    os.mkdir('Cutout')"
   ]
  },
  {
   "cell_type": "markdown",
   "metadata": {},
   "source": [
    "## Import catalog"
   ]
  },
  {
   "cell_type": "code",
   "execution_count": 3,
   "metadata": {},
   "outputs": [],
   "source": [
    "inter_z = Table.read('s16a_massive_z_0.5_logm_11.4_dec_30_for_john.fits', format='fits')\n",
    "z_0203 = inter_z[np.logical_and.reduce([inter_z['z_best']<0.3, inter_z['z_best']>0.0])]\n",
    "z_0304 = inter_z[np.logical_and.reduce([inter_z['z_best']<0.4, inter_z['z_best']>0.3])]\n",
    "z_0405 = inter_z[np.logical_and.reduce([inter_z['z_best']<0.5, inter_z['z_best']>0.4])]"
   ]
  },
  {
   "cell_type": "markdown",
   "metadata": {},
   "source": [
    "## Download cutout for z_0203 subset"
   ]
  },
  {
   "cell_type": "code",
   "execution_count": 4,
   "metadata": {},
   "outputs": [],
   "source": [
    "pixel_scale = 0.168 # arcsec / pixel"
   ]
  },
  {
   "cell_type": "code",
   "execution_count": 5,
   "metadata": {},
   "outputs": [],
   "source": [
    "def gen_url(ra, dec, w, h, band):\n",
    "    return ['https://hscdata.mtk.nao.ac.jp/das_quarry/dr2.1/cgi-bin/cutout?ra='\n",
    "       + str(ra) \n",
    "       + '&dec='\n",
    "       + str(dec)\n",
    "       + '&sw='\n",
    "       + str(w)\n",
    "       + 'asec&sh='\n",
    "       + str(h)\n",
    "       + 'asec&type=coadd&image=on&variance=on&filter=HSC-'\n",
    "       + str(band.upper())\n",
    "       + '&tract=&rerun=s18a_wide']"
   ]
  },
  {
   "cell_type": "code",
   "execution_count": 6,
   "metadata": {},
   "outputs": [],
   "source": [
    "url_set = []\n",
    "for obj in z_0203:\n",
    "    ra, dec = obj['ra'], obj['dec']\n",
    "    w, h = 100, 100\n",
    "    band = 'r'\n",
    "    url_set.append(gen_url(ra, dec, w, h, band))\n",
    "url_set = np.array(url_set).flatten().tolist()\n",
    "z_0203.add_column(Column(name='url', data=url_set))"
   ]
  },
  {
   "cell_type": "code",
   "execution_count": 7,
   "metadata": {},
   "outputs": [],
   "source": [
    "# Write the urls to a file\n",
    "fh = open('filename.txt', 'w')\n",
    "for url in url_set[:3]:\n",
    "    fh.write(url)\n",
    "    fh.write('\\n')\n",
    "fh.close()"
   ]
  },
  {
   "cell_type": "markdown",
   "metadata": {},
   "source": [
    "### Download using urllib"
   ]
  },
  {
   "cell_type": "code",
   "execution_count": 8,
   "metadata": {},
   "outputs": [],
   "source": [
    "# Import HSC username and password\n",
    "config = Table.read('/Users/jiaxuanli/Documents/HSC_config', format='ascii.no_header')['col1']\n",
    "username = config[0]\n",
    "password = config[1]"
   ]
  },
  {
   "cell_type": "code",
   "execution_count": 9,
   "metadata": {},
   "outputs": [],
   "source": [
    "# Create a password manager\n",
    "password_mgr = urllib.request.HTTPPasswordMgrWithDefaultRealm()\n",
    "\n",
    "# Add the username and password.\n",
    "# If we knew the realm, we could use it instead of None.\n",
    "top_level_url = 'https://hscdata.mtk.nao.ac.jp/das_quarry/dr2.1/'\n",
    "\n",
    "password_mgr.add_password(None, top_level_url, username, password)\n",
    "\n",
    "handler = urllib.request.HTTPBasicAuthHandler(password_mgr)\n",
    "\n",
    "# create \"opener\" (OpenerDirector instance)\n",
    "opener = urllib.request.build_opener(handler)\n",
    "\n",
    "# use the opener to fetch a URL\n",
    "opener.open(top_level_url)\n",
    "\n",
    "# Install the opener.\n",
    "# Now all calls to urllib.request.urlopen use our opener.\n",
    "urllib.request.install_opener(opener)"
   ]
  },
  {
   "cell_type": "code",
   "execution_count": 10,
   "metadata": {},
   "outputs": [
    {
     "name": "stdout",
     "output_type": "stream",
     "text": [
      "CPU times: user 1min 19s, sys: 33.4 s, total: 1min 52s\n",
      "Wall time: 1h 7min 40s\n"
     ]
    }
   ],
   "source": [
    "%%time\n",
    "os.chdir('Cutout/')\n",
    "if not os.path.isdir('z_0203'):\n",
    "    os.mkdir('z_0203')\n",
    "    \n",
    "for obj in z_0203:\n",
    "    urllib.request.urlretrieve(\n",
    "        obj['url'],\n",
    "        filename=path + 'Cutout/z_0203/' + 'HSC-cutout-ra=' + str(round(obj['ra'], 2)) +\n",
    "        '&dec=' + str(round(obj['dec'])) + '&band=HSC-r.fits')"
   ]
  },
  {
   "cell_type": "markdown",
   "metadata": {},
   "source": [
    "## In the downloaded `fits` files, layer[1] is image, layer[2] is mask (now empty), and layer[3] is variance."
   ]
  }
 ],
 "metadata": {
  "kernelspec": {
   "display_name": "Python 3",
   "language": "python",
   "name": "python3"
  },
  "language_info": {
   "codemirror_mode": {
    "name": "ipython",
    "version": 3
   },
   "file_extension": ".py",
   "mimetype": "text/x-python",
   "name": "python",
   "nbconvert_exporter": "python",
   "pygments_lexer": "ipython3",
   "version": "3.7.0"
  }
 },
 "nbformat": 4,
 "nbformat_minor": 2
}
