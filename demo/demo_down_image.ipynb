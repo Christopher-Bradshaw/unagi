{
 "cells": [
  {
   "cell_type": "code",
   "execution_count": 59,
   "metadata": {},
   "outputs": [
    {
     "name": "stdout",
     "output_type": "stream",
     "text": [
      "The autoreload extension is already loaded. To reload it, use:\n",
      "  %reload_ext autoreload\n"
     ]
    },
    {
     "name": "stderr",
     "output_type": "stream",
     "text": [
      "[autoreload of unagi.task failed: Traceback (most recent call last):\n",
      "  File \"/usr/local/lib/python2.7/site-packages/IPython/extensions/autoreload.py\", line 247, in check\n",
      "    superreload(m, reload, self.old_objects)\n",
      "  File \"/Users/song/Dropbox/work/project/unagi/unagi/task.py\", line 11\n",
      "    class SspDasTask(object)\n",
      "                           ^\n",
      "SyntaxError: invalid syntax\n",
      "]\n"
     ]
    }
   ],
   "source": [
    "%matplotlib inline \n",
    "%load_ext autoreload \n",
    "%autoreload 2\n",
    "\n",
    "#---------------------------------------------------------------------------#\n",
    "__author__ = 'Song Huang'\n",
    "__email__ = 'shuang89@ucsc.edu'\n",
    "\n",
    "from __future__ import print_function, \\\n",
    "    division, \\\n",
    "    absolute_import\n",
    "    \n",
    "from IPython.display import Image\n",
    "from IPython.core.display import HTML \n",
    "\n",
    "from astropy.coordinates import SkyCoord\n",
    "    \n",
    "from unagi.config import SspDasConfig, SspRerun\n",
    "from unagi.object import SspObject"
   ]
  },
  {
   "cell_type": "code",
   "execution_count": 54,
   "metadata": {},
   "outputs": [],
   "source": [
    "ra1 = 150.06776248638207 \n",
    "dec1 = 2.193594129134048\n",
    "\n",
    "ra2 = 151.06776248638207 \n",
    "dec2 = 2.093594129134048"
   ]
  },
  {
   "cell_type": "code",
   "execution_count": 55,
   "metadata": {},
   "outputs": [],
   "source": [
    "galaxy1 = SspObject(ra1, dec1)\n",
    "\n",
    "galaxy2 = SspObject(ra2, dec2)\n",
    "\n",
    "coord2 = SkyCoord(ra2, dec2, unit='deg', frame='icrs')"
   ]
  },
  {
   "cell_type": "code",
   "execution_count": 56,
   "metadata": {},
   "outputs": [],
   "source": [
    "icrs_coord = galaxy.icrs"
   ]
  },
  {
   "cell_type": "code",
   "execution_count": 58,
   "metadata": {},
   "outputs": [
    {
     "data": {
      "text/latex": [
       "$1^\\circ00{}^\\prime15.448{}^{\\prime\\prime}$"
      ],
      "text/plain": [
       "<Angle 1.0042911167379793 deg>"
      ]
     },
     "execution_count": 58,
     "metadata": {},
     "output_type": "execute_result"
    }
   ],
   "source": [
    "galaxy1.distance_to(galaxy2)"
   ]
  },
  {
   "cell_type": "code",
   "execution_count": 45,
   "metadata": {},
   "outputs": [
    {
     "data": {
      "text/latex": [
       "$1^\\circ00{}^\\prime15.448{}^{\\prime\\prime}$"
      ],
      "text/plain": [
       "<Angle 1.0042911167379793 deg>"
      ]
     },
     "execution_count": 45,
     "metadata": {},
     "output_type": "execute_result"
    }
   ],
   "source": [
    "sep"
   ]
  },
  {
   "cell_type": "code",
   "execution_count": 32,
   "metadata": {},
   "outputs": [
    {
     "data": {
      "text/plain": [
       "True"
      ]
     },
     "execution_count": 32,
     "metadata": {},
     "output_type": "execute_result"
    }
   ],
   "source": [
    "isinstance(galaxy, SspObject)"
   ]
  },
  {
   "cell_type": "code",
   "execution_count": null,
   "metadata": {},
   "outputs": [],
   "source": []
  }
 ],
 "metadata": {
  "hide_input": false,
  "kernelspec": {
   "display_name": "Python 2",
   "language": "python",
   "name": "python2"
  },
  "language_info": {
   "codemirror_mode": {
    "name": "ipython",
    "version": 2
   },
   "file_extension": ".py",
   "mimetype": "text/x-python",
   "name": "python",
   "nbconvert_exporter": "python",
   "pygments_lexer": "ipython2",
   "version": "2.7.13"
  },
  "nav_menu": {},
  "toc": {
   "navigate_menu": true,
   "number_sections": true,
   "sideBar": true,
   "threshold": 6,
   "toc_cell": false,
   "toc_section_display": "block",
   "toc_window_display": false
  }
 },
 "nbformat": 4,
 "nbformat_minor": 2
}
