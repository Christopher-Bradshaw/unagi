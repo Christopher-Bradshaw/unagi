{
 "cells": [
  {
   "cell_type": "code",
   "execution_count": 1,
   "metadata": {},
   "outputs": [],
   "source": [
    "%matplotlib inline\n",
    "%load_ext autoreload\n",
    "%autoreload 2\n",
    "\n",
    "import os\n",
    "import io\n",
    "import sys\n",
    "import json\n",
    "\n",
    "import numpy as np\n",
    "\n",
    "import astropy.units as u\n",
    "from astropy import wcs\n",
    "from astropy.io import fits\n",
    "from astropy.table import Table\n",
    "from astropy.coordinates import SkyCoord\n",
    "from astropy.visualization import make_lupton_rgb\n",
    "from astropy.utils.data import download_file, clear_download_cache\n",
    "\n",
    "import matplotlib.pyplot as plt"
   ]
  },
  {
   "cell_type": "markdown",
   "metadata": {},
   "source": [
    "## Query HSC database using SQL search\n",
    "\n",
    "* Here `unagi` provides the basic function to run quick SQL search of HSC database\n",
    "* If you need to run large `SQL` search (longer than ~10 mins), please use the `CAS` online search interface\n",
    "\n",
    "### Step 1: Setup HSC-SSP online data archive \n",
    "\n",
    "* First, you need to setup a HSC-SSP rerun\n",
    "* Here we use the wide field from the `PDR1` as an example\n",
    "* `SQL` search only cares about the data release (`dr`), you can use any `rerun` you want and still have access to all "
   ]
  },
  {
   "cell_type": "code",
   "execution_count": 10,
   "metadata": {},
   "outputs": [],
   "source": [
    "from unagi import config\n",
    "from unagi import hsc\n",
    "from unagi import plotting\n",
    "from unagi.task import hsc_cutout\n",
    "\n",
    "# TODO need to change to PDR\n",
    "pdr1 = hsc.Hsc(dr='pdr1', rerun='pdr1_wide')"
   ]
  },
  {
   "cell_type": "markdown",
   "metadata": {},
   "source": [
    "### Basic SQL search \n",
    "\n",
    "* You need to write your own `SQL` script and pass it to query\n",
    "* The output is a `astropy.table` table. It can be saved as an output file\n",
    "* By default\n",
    "    - We will skip the syntax check.  If you want syntax check, please set `skip_syntax=False`\n",
    "    - We will delete the search result from the database after the search is done. If you want to keep the data, please set `delete_after=False`\n",
    "    - We turn off the e-mail notification. If you don't mind being bothered by a lot of e-mails, set `noemail=False`"
   ]
  },
  {
   "cell_type": "code",
   "execution_count": 11,
   "metadata": {},
   "outputs": [
    {
     "name": "stdout",
     "output_type": "stream",
     "text": [
      "SELECT \n",
      "        object_id \n",
      "      , ra \n",
      "      , dec \n",
      "      , imag_kron \n",
      "      , imag_kron_err \n",
      "      , ymag_kron \n",
      "      , ymag_kron_err \n",
      "      , imag_kron - ymag_kron AS i_y \n",
      "    FROM \n",
      "        pdr1_udeep.forced \n",
      "    WHERE \n",
      "        boxsearch(coord, 34.0, 36.0, -5.0, -4.5) \n",
      "        /* is equivalent to \n",
      "             ra BETWEEN 34.0 AND 36.0 \n",
      "             AND dec BETWEEN -5.0 AND -4.5 \n",
      "           but boxSearch() is much faster \n",
      "        */ \n",
      "        AND imag_kron < 25.5 \n",
      "    LIMIT 10\n",
      ";\n"
     ]
    }
   ],
   "source": [
    "sql_test = open('../unagi/test/test_query_1.sql', 'r').read()\n",
    "print(sql_test)"
   ]
  },
  {
   "cell_type": "code",
   "execution_count": 12,
   "metadata": {},
   "outputs": [
    {
     "name": "stdout",
     "output_type": "stream",
     "text": [
      "Waiting for query to finish... [Done]\n",
      "    object_id             ra         ... ymag_kron_err     i_y     \n",
      "----------------- ------------------ ... ------------- ------------\n",
      "37484855356823644 34.497888478553904 ...   0.011460446   0.49466515\n",
      "37484855356851947  34.49811385510532 ...    0.16973113    0.7528496\n",
      "37484855356852577 34.499461064481956 ...    0.16208024    0.2631302\n",
      "37484855356853110  34.49828081308036 ...    0.20196179   0.10679436\n",
      "37484855356853409  34.49914189505791 ...   0.038959116   0.45888138\n",
      "37484855356853410  34.49971429719763 ...    0.06631608  0.041065216\n",
      "37484855356823966  34.49709026091776 ...    0.21807384  -0.47187042\n",
      "37484855356824754 34.496511370237826 ...   0.020181475   0.43512917\n",
      "37484855356825704  34.49579931726271 ...    0.15489967 -0.066129684\n",
      "37484855356851943  34.49745850750885 ...   0.042136233    1.0453167\n"
     ]
    }
   ],
   "source": [
    "result_test = pdr1.sql_query(sql_test, verbose=True)\n",
    "\n",
    "print(result_test)"
   ]
  },
  {
   "cell_type": "markdown",
   "metadata": {},
   "source": [
    "### Preview a large SQL search\n",
    "\n",
    "* You can also test certain `SQL` search using the `preview=True` option. It will return the first 10 objects."
   ]
  },
  {
   "cell_type": "code",
   "execution_count": 35,
   "metadata": {},
   "outputs": [
    {
     "name": "stdout",
     "output_type": "stream",
     "text": [
      "# Preview the SQL search result...\n",
      "['object_id', 'ra', 'dec', 'imag_kron', 'imag_kron_err', 'ymag_kron', 'ymag_kron_err', 'i_y']\n",
      "['37484855356823644', '34.4978884785539037', '-4.63005420066825835', '22.0537434', '0.0050310907', '21.5590782', '0.0114604458', '0.494665146']\n",
      "['37484855356851947', '34.4981138551053235', '-4.62716435375749313', '25.120718', '0.0899058282', '24.3678684', '0.169731125', '0.752849579']\n",
      "['37484855356852577', '34.4994610644819559', '-4.62184521677133997', '24.9699688', '0.0547340661', '24.7068386', '0.162080243', '0.263130188']\n",
      "['37484855356853110', '34.4982808130803633', '-4.61936769456526353', '25.2625847', '0.0585449859', '25.1557903', '0.201961786', '0.106794357']\n",
      "['37484855356853409', '34.4991418950579103', '-4.61608885085157006', '23.2742653', '0.0153167928', '22.8153839', '0.0389591157', '0.458881378']\n",
      "['37484855356853410', '34.4997142971976274', '-4.61655727777253944', '23.7624779', '0.0178093165', '23.7214127', '0.0663160831', '0.0410652161']\n",
      "['37484855356823966', '34.4970902609177585', '-4.62228403104525931', '24.009409', '0.037591096', '24.4812794', '0.218073845', '-0.471870422']\n",
      "['37484855356824754', '34.4965113702378261', '-4.6115610298555767', '23.0918865', '0.00793301873', '22.6567574', '0.0201814752', '0.435129166']\n",
      "['37484855356825704', '34.4957993172627084', '-4.59165274324616046', '24.7578506', '0.0405600667', '24.8239803', '0.154899672', '-0.0661296844']\n",
      "['37484855356851943', '34.4974585075088527', '-4.62787642133970234', '23.6517811', '0.0293572489', '22.6064644', '0.0421362333', '1.0453167']\n"
     ]
    }
   ],
   "source": [
    "res = pdr1.sql_query(sql_test, preview=True, verbose=True)"
   ]
  },
  {
   "cell_type": "code",
   "execution_count": null,
   "metadata": {},
   "outputs": [],
   "source": [
    "### "
   ]
  }
 ],
 "metadata": {
  "kernelspec": {
   "display_name": "Python 3",
   "language": "python",
   "name": "python3"
  },
  "language_info": {
   "codemirror_mode": {
    "name": "ipython",
    "version": 3
   },
   "file_extension": ".py",
   "mimetype": "text/x-python",
   "name": "python",
   "nbconvert_exporter": "python",
   "pygments_lexer": "ipython3",
   "version": "3.7.3"
  }
 },
 "nbformat": 4,
 "nbformat_minor": 2
}
