{
 "cells": [
  {
   "cell_type": "code",
   "execution_count": 21,
   "metadata": {},
   "outputs": [
    {
     "name": "stdout",
     "output_type": "stream",
     "text": [
      "The autoreload extension is already loaded. To reload it, use:\n",
      "  %reload_ext autoreload\n"
     ]
    }
   ],
   "source": [
    "%matplotlib inline \n",
    "%load_ext autoreload \n",
    "%autoreload 2\n",
    "\n",
    "#---------------------------------------------------------------------------#\n",
    "__author__ = 'Song Huang'\n",
    "__email__ = 'shuang89@ucsc.edu'\n",
    "\n",
    "from __future__ import print_function, \\\n",
    "    division, \\\n",
    "    absolute_import\n",
    "    \n",
    "from IPython.display import Image\n",
    "from IPython.core.display import HTML \n",
    "    \n",
    "from unagi.config import SspDasConfig, SspRerun"
   ]
  },
  {
   "cell_type": "code",
   "execution_count": 8,
   "metadata": {},
   "outputs": [],
   "source": [
    "pdr_config = SspDasConfig(pdr=True)"
   ]
  },
  {
   "cell_type": "code",
   "execution_count": 9,
   "metadata": {},
   "outputs": [
    {
     "data": {
      "text/plain": [
       "array(['UDEEP_COSMOS', 'UDEEP_SXDS', 'DEEP_COSMOS', 'DEEP_DEEP2-3',\n",
       "       'DEEP_ELAIS-N1', 'DEEP_XMM-LSS', 'WIDE_XMM-LSS', 'WIDE_GAMA09H',\n",
       "       'WIDE_GAMA15H', 'WIDE_WIDE12H', 'WIDE_HECTOMAP', 'WIDE_VVDS',\n",
       "       'SSP_AEGIS'],\n",
       "      dtype='|S13')"
      ]
     },
     "execution_count": 9,
     "metadata": {},
     "output_type": "execute_result"
    }
   ],
   "source": [
    "pdr_config.field_table['name'].data.astype('str')"
   ]
  },
  {
   "cell_type": "code",
   "execution_count": 10,
   "metadata": {},
   "outputs": [
    {
     "data": {
      "text/html": [
       "<img src=\"https://hsc-release.mtk.nao.ac.jp/das_search/pdr1/images/pdr1/tracts_patches_UD_SXDS_HSC-I.png\"/>"
      ],
      "text/plain": [
       "<IPython.core.display.Image object>"
      ]
     },
     "execution_count": 10,
     "metadata": {},
     "output_type": "execute_result"
    }
   ],
   "source": [
    "Image(url= pdr_config.field_table['field_map'][1])"
   ]
  },
  {
   "cell_type": "code",
   "execution_count": 22,
   "metadata": {},
   "outputs": [],
   "source": [
    "pdr1_wide = SspRerun('pdr1_wide', pdr=True)"
   ]
  },
  {
   "cell_type": "code",
   "execution_count": 23,
   "metadata": {},
   "outputs": [
    {
     "data": {
      "text/plain": [
       "'pdr1_wide'"
      ]
     },
     "execution_count": 23,
     "metadata": {},
     "output_type": "execute_result"
    }
   ],
   "source": [
    "pdr1_wide.rerun_name"
   ]
  }
 ],
 "metadata": {
  "hide_input": false,
  "kernelspec": {
   "display_name": "Python 2",
   "language": "python",
   "name": "python2"
  },
  "language_info": {
   "codemirror_mode": {
    "name": "ipython",
    "version": 2
   },
   "file_extension": ".py",
   "mimetype": "text/x-python",
   "name": "python",
   "nbconvert_exporter": "python",
   "pygments_lexer": "ipython2",
   "version": "2.7.13"
  },
  "nav_menu": {},
  "toc": {
   "navigate_menu": true,
   "number_sections": true,
   "sideBar": true,
   "threshold": 6,
   "toc_cell": false,
   "toc_section_display": "block",
   "toc_window_display": false
  }
 },
 "nbformat": 4,
 "nbformat_minor": 2
}
