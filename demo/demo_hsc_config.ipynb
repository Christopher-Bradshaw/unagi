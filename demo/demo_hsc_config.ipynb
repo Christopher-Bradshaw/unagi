{
 "cells": [
  {
   "cell_type": "code",
   "execution_count": 2,
   "metadata": {},
   "outputs": [
    {
     "name": "stdout",
     "output_type": "stream",
     "text": [
      "The autoreload extension is already loaded. To reload it, use:\n",
      "  %reload_ext autoreload\n"
     ]
    }
   ],
   "source": [
    "%matplotlib inline\n",
    "%load_ext autoreload\n",
    "%autoreload 2\n",
    "\n",
    "from astropy.utils.data import download_file\n",
    "\n",
    "from IPython.display import Image\n",
    "from IPython.core.display import HTML \n",
    "    \n",
    "from unagi import config"
   ]
  },
  {
   "cell_type": "markdown",
   "metadata": {},
   "source": [
    "## Setup HSC archive\n",
    "\n",
    "* Here we show you how to config and setup a HSC archive to use\n",
    "* HSC-SSP has public and internal archive for data release\n",
    "    - To use the [public data release](https://hsc-release.mtk.nao.ac.jp\") (PDR), you need to register an account.\n",
    "    - And the [internal data release](https://hscdata.mtk.nao.ac.jp) (IDR) is only available to HSC-SSP members. \n",
    "\n",
    "### Credential\n",
    "\n",
    "For both archives, you need to have a `username` and a `password` to use it. There are three ways to pass these information to `unagi`. \n",
    "1. You can type in your credential information everytime.\n",
    "2. Put your `username` and `password` in a plain ASCII file and pass it as a configuration file. \n",
    "3. Setup environment variables. \n",
    "    - For PDR, please use: `SSP_PDR_USR` and `SSP_PDR_PWD`\n",
    "    - For IDR, please use: `SSP_IDR_USR` and `SSP_IDR_PWD`\n",
    "    \n",
    "### Data Release: `DR`\n",
    "\n",
    "You can find the available `DR`s here:"
   ]
  },
  {
   "cell_type": "code",
   "execution_count": 3,
   "metadata": {},
   "outputs": [
    {
     "data": {
      "text/plain": [
       "['pdr1', 'pdr2', 'dr1', 'dr2']"
      ]
     },
     "execution_count": 3,
     "metadata": {},
     "output_type": "execute_result"
    }
   ],
   "source": [
    "config.AVAILABLE_DRS"
   ]
  },
  {
   "cell_type": "code",
   "execution_count": 18,
   "metadata": {},
   "outputs": [
    {
     "name": "stdout",
     "output_type": "stream",
     "text": [
      "# SQL search: https://hsc-release.mtk.nao.ac.jp/datasearch/api/catalog_jobs/\n",
      "# Image cutout: https://hsc-release.mtk.nao.ac.jp/das_quarry/cgi-bin/quarryImage?\n",
      "# Image files: https://hsc-release.mtk.nao.ac.jp/archive/filetree/\n",
      "# PSF models: https://hsc-release.mtk.nao.ac.jp/archive/filetree/\n",
      "# DAS search: https://hsc-release.mtk.nao.ac.jp/das_search/\n",
      "# Coverage maps: https://hsc-release.mtk.nao.ac.jp/das_search/pdr1/images/pdr1/\n",
      "# Information about the DR: https://hsc-release.mtk.nao.ac.jp/rsrc/patch_info/\n"
     ]
    }
   ],
   "source": [
    "# For example, here we setup the configuration object for PDR1\n",
    "pdr1_config = config.Server(dr='pdr1')\n",
    "\n",
    "# Here is some key URLs to use this archive\n",
    "print(\"# SQL search: {}\".format(pdr1_config.cat_url))\n",
    "print(\"# Image cutout: {}\".format(pdr1_config.img_url))\n",
    "print(\"# Image files: {}\".format(pdr1_config.file_url))\n",
    "print(\"# PSF models: {}\".format(pdr1_config.file_url))\n",
    "print(\"# DAS search: {}\".format(pdr1_config.das_url))\n",
    "print(\"# Coverage maps: {}\".format(pdr1_config.map_url))\n",
    "print(\"# Information about the DR: {}\".format(pdr1_config.txt_url))"
   ]
  },
  {
   "cell_type": "code",
   "execution_count": 11,
   "metadata": {},
   "outputs": [
    {
     "name": "stdout",
     "output_type": "stream",
     "text": [
      "['HSC-G', 'HSC-R', 'HSC-I', 'HSC-Z', 'HSC-Y', 'NB0816', 'NB0921']\n",
      "['g', 'r', 'i', 'z', 'y', 'nb816', 'nb921']\n"
     ]
    }
   ],
   "source": [
    "# List of available filters\n",
    "print(pdr1_config.filter_list)\n",
    "\n",
    "# Short \"Nickname\" of the filters\n",
    "print(pdr1_config.filter_list_short)"
   ]
  },
  {
   "cell_type": "code",
   "execution_count": 15,
   "metadata": {},
   "outputs": [
    {
     "name": "stdout",
     "output_type": "stream",
     "text": [
      "['any', 'pdr1_udeep', 'pdr1_deep', 'pdr1_wide']\n",
      "# Default Rerun: pdr1_wide\n",
      "# Default Wide-layer Rerun: pdr1_wide\n",
      "# Default Deep-layer Rerun: pdr1_deep\n",
      "# Default UltraDeep-layer Rerun: pdr1_udeep\n"
     ]
    }
   ],
   "source": [
    "# Within each DR, SSP could have multiple datasets with different sky coverage, imaging depth, and \n",
    "# were reduced by different versions of the HSC pipeline. \n",
    "# Each of these dataset is called a `Rerun`\n",
    "\n",
    "# List of available reruns\n",
    "print(pdr1_config.rerun_list)\n",
    "\n",
    "# A default `rerun` has been selected for each layer\n",
    "print(\"# Default Rerun: {}\".format(pdr1_config.rerun_default))\n",
    "print(\"# Default Wide-layer Rerun: {}\".format(pdr1_config.wide_default))\n",
    "print(\"# Default Deep-layer Rerun: {}\".format(pdr1_config.deep_default))\n",
    "print(\"# Default UltraDeep-layer Rerun: {}\".format(pdr1_config.udeep_default))"
   ]
  },
  {
   "cell_type": "code",
   "execution_count": 20,
   "metadata": {},
   "outputs": [
    {
     "name": "stdout",
     "output_type": "stream",
     "text": [
      "['UDEEP_COSMOS', 'UDEEP_SXDS', 'DEEP_COSMOS', 'DEEP_DEEP2-3', 'DEEP_ELAIS-N1', 'DEEP_XMM-LSS', 'WIDE_XMM-LSS', 'WIDE_GAMA09H', 'WIDE_GAMA15H', 'WIDE_WIDE12H', 'WIDE_HECTOMAP', 'WIDE_VVDS', 'SSP_AEGIS']\n"
     ]
    }
   ],
   "source": [
    "# HSC data are seperated into a bunch of small, isolated fields (for now)\n",
    "\n",
    "# List of available fields\n",
    "print(pdr1_config.field_name)"
   ]
  },
  {
   "cell_type": "code",
   "execution_count": 24,
   "metadata": {},
   "outputs": [
    {
     "data": {
      "text/plain": [
       "['abbr', 'field_map', 'file', 'filter_available', 'name', 'patch_info', 'type']"
      ]
     },
     "execution_count": 24,
     "metadata": {},
     "output_type": "execute_result"
    }
   ],
   "source": [
    "# More detailed information of each field is kept in `field_table`\n",
    "pdr1_config.field_table.colnames"
   ]
  },
  {
   "cell_type": "code",
   "execution_count": 32,
   "metadata": {},
   "outputs": [
    {
     "data": {
      "text/plain": [
       "'https://hsc-release.mtk.nao.ac.jp/das_search/pdr1/images/pdr1/W-GAMA09H_i_area.png'"
      ]
     },
     "execution_count": 32,
     "metadata": {},
     "output_type": "execute_result"
    }
   ],
   "source": [
    "g09_i_map = pdr1_config.field_table['field_map'][g09_flag][0]"
   ]
  },
  {
   "cell_type": "code",
   "execution_count": 33,
   "metadata": {},
   "outputs": [
    {
     "data": {
      "text/html": [
       "<img src=\"https://hsc-release.mtk.nao.ac.jp/das_search/pdr1/images/pdr1/W-GAMA09H_i_area.png\"/>"
      ],
      "text/plain": [
       "<IPython.core.display.Image object>"
      ]
     },
     "execution_count": 33,
     "metadata": {},
     "output_type": "execute_result"
    }
   ],
   "source": [
    "# e.g. If you want to check out the coverage of the `WIDE_GAMA09H` field in i-band\n",
    "\n",
    "g09_flag = pdr1_config.field_table['name'] == 'WIDE_GAMA09H' \n",
    "g09_i_map = pdr1_config.field_table['field_map'][g09_flag][0]\n",
    "\n",
    "Image(url=g09_i_map)"
   ]
  },
  {
   "cell_type": "code",
   "execution_count": 44,
   "metadata": {},
   "outputs": [],
   "source": [
    "# The RA, Dec information of all the `Tract` and `Patch` in a field is kept in this file\n",
    "g09_i_patches = pdr1_config.field_table['patch_info'][g09_flag][0]\n",
    "\n",
    "g09_i_info = [line.rstrip('\\n') for line in open(download_file(g09_i_patches), 'r')]"
   ]
  },
  {
   "cell_type": "code",
   "execution_count": 47,
   "metadata": {},
   "outputs": [
    {
     "name": "stdout",
     "output_type": "stream",
     "text": [
      "['************ Tract *************', 'Tract: 9070  Center (RA, Dec): (127.933884298 , -2.23140495868)', 'Tract: 9070  Corner0 (RA, Dec): (128.774895066 , -3.07096790218)', 'Tract: 9070  Corner1 (RA, Dec): (127.09282681 , -3.07096786549)', 'Tract: 9070  Corner2 (RA, Dec): (127.093787018 , -1.39131562101)', 'Tract: 9070  Corner3 (RA, Dec): (128.773934911 , -1.39131563762)', '************ Patches *************', 'Tract: 9070  Patch: 0,0  Center (RA, Dec): (128.681431403 , -2.97775302135)', 'Tract: 9070  Patch: 0,0      Corner0 (RA, Dec): (128.774895066 , -3.07096790218)', 'Tract: 9070  Patch: 0,0      Corner1 (RA, Dec): (128.588058683 , -3.0710983265)']\n"
     ]
    }
   ],
   "source": [
    "print(g09_i_info[:10])"
   ]
  },
  {
   "cell_type": "markdown",
   "metadata": {},
   "source": [
    "### Rerun\n",
    "\n",
    "* Most of the times, you only need data from a single `rerun`. In that case, you can use the `Rerun` object instead.  "
   ]
  },
  {
   "cell_type": "code",
   "execution_count": 49,
   "metadata": {},
   "outputs": [],
   "source": [
    "pdr1_wide = config.Rerun(dr='pdr1', rerun='pdr1_wide')"
   ]
  },
  {
   "cell_type": "code",
   "execution_count": 50,
   "metadata": {},
   "outputs": [
    {
     "data": {
      "text/plain": [
       "['UDEEP_COSMOS',\n",
       " 'UDEEP_SXDS',\n",
       " 'DEEP_COSMOS',\n",
       " 'DEEP_DEEP2-3',\n",
       " 'DEEP_ELAIS-N1',\n",
       " 'DEEP_XMM-LSS',\n",
       " 'WIDE_XMM-LSS',\n",
       " 'WIDE_GAMA09H',\n",
       " 'WIDE_GAMA15H',\n",
       " 'WIDE_WIDE12H',\n",
       " 'WIDE_HECTOMAP',\n",
       " 'WIDE_VVDS',\n",
       " 'SSP_AEGIS']"
      ]
     },
     "execution_count": 50,
     "metadata": {},
     "output_type": "execute_result"
    }
   ],
   "source": [
    "pdr1_wide.field_name"
   ]
  },
  {
   "cell_type": "code",
   "execution_count": null,
   "metadata": {},
   "outputs": [],
   "source": []
  }
 ],
 "metadata": {
  "hide_input": false,
  "kernelspec": {
   "display_name": "Python 3",
   "language": "python",
   "name": "python3"
  },
  "language_info": {
   "codemirror_mode": {
    "name": "ipython",
    "version": 3
   },
   "file_extension": ".py",
   "mimetype": "text/x-python",
   "name": "python",
   "nbconvert_exporter": "python",
   "pygments_lexer": "ipython3",
   "version": "3.7.3"
  },
  "nav_menu": {},
  "toc": {
   "navigate_menu": true,
   "number_sections": true,
   "sideBar": true,
   "threshold": 6,
   "toc_cell": false,
   "toc_section_display": "block",
   "toc_window_display": false
  }
 },
 "nbformat": 4,
 "nbformat_minor": 2
}
