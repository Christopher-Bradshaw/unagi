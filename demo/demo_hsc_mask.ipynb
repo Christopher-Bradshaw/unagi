{
 "cells": [
  {
   "cell_type": "code",
   "execution_count": 578,
   "metadata": {},
   "outputs": [
    {
     "name": "stdout",
     "output_type": "stream",
     "text": [
      "The autoreload extension is already loaded. To reload it, use:\n",
      "  %reload_ext autoreload\n"
     ]
    }
   ],
   "source": [
    "%matplotlib inline\n",
    "%load_ext autoreload\n",
    "%autoreload 2\n",
    "\n",
    "import os\n",
    "import sys\n",
    "import copy\n",
    "\n",
    "import numpy as np\n",
    "\n",
    "import astropy.units as u\n",
    "from astropy import wcs\n",
    "from astropy.io import fits\n",
    "from astropy.coordinates import SkyCoord\n",
    "from astropy.visualization import make_lupton_rgb\n",
    "from astropy.utils.data import download_file, clear_download_cache\n",
    "\n",
    "import matplotlib.pyplot as plt"
   ]
  },
  {
   "cell_type": "code",
   "execution_count": 565,
   "metadata": {},
   "outputs": [],
   "source": [
    "from unagi import hsc\n",
    "from unagi import mask\n",
    "from unagi import config\n",
    "from unagi import plotting\n",
    "from unagi.task import hsc_cutout\n",
    "\n",
    "s18a = hsc.Hsc(dr='dr2', rerun='s18a_wide')"
   ]
  },
  {
   "cell_type": "markdown",
   "metadata": {},
   "source": [
    "### Example of a mask plane"
   ]
  },
  {
   "cell_type": "code",
   "execution_count": 428,
   "metadata": {},
   "outputs": [
    {
     "name": "stdout",
     "output_type": "stream",
     "text": [
      "# Retrieving cutout image in filter: i\n"
     ]
    }
   ],
   "source": [
    "# Download an example mask plane\n",
    "coord = SkyCoord(150.0913, 2.2059, frame='icrs', unit='deg')\n",
    "\n",
    "cutout_test = hsc_cutout(coord, cutout_size=20.0 * u.arcsec, filters='i', archive=s18a, \n",
    "                         use_saved=False, verbose=True, save_output=False, mask=True)"
   ]
  },
  {
   "cell_type": "markdown",
   "metadata": {},
   "source": [
    "#### \"Library\" of mask planes\n",
    "\n",
    "* HSC data reduced by different versions of `hscPipe` have different number and definitions for the bitmask planes. \n",
    "* For example, `PDR1` has 16 allowed bitmask planes, while internal `DR2` has 32 mask planes.  \n",
    "* Not all mask planes are used, some of them are just placeholders for future usage."
   ]
  },
  {
   "cell_type": "code",
   "execution_count": 566,
   "metadata": {},
   "outputs": [
    {
     "data": {
      "text/html": [
       "<i>Table length=17</i>\n",
       "<table id=\"table5224703984-534364\" class=\"table-striped table-bordered table-condensed\">\n",
       "<thead><tr><th>idx</th><th>bits</th><th>name</th><th>meaning</th><th>color</th><th>value</th></tr></thead>\n",
       "<tr><td>0</td><td>0</td><td>BAD</td><td>Bad pixel</td><td>red</td><td>1</td></tr>\n",
       "<tr><td>1</td><td>1</td><td>SAT</td><td>Source footprint includes saturated pixels</td><td>tab:purple</td><td>2</td></tr>\n",
       "<tr><td>2</td><td>2</td><td>INTRP</td><td>Source footprint includes interpolated pixels</td><td>tab:orange</td><td>4</td></tr>\n",
       "<tr><td>3</td><td>3</td><td>CR</td><td>Source footprint includes suspected CR pixels</td><td>tab:pink</td><td>8</td></tr>\n",
       "<tr><td>4</td><td>4</td><td>EDGE</td><td>Source is close to the edge of the CCD</td><td>tab:olive</td><td>16</td></tr>\n",
       "<tr><td>5</td><td>5</td><td>DETECTED</td><td>Pixel with detection above the threshold</td><td>tab:blue</td><td>32</td></tr>\n",
       "<tr><td>6</td><td>6</td><td>DETECTED_NEGATIVE</td><td>Pixel in footprint that is detected as a negative object</td><td>gray</td><td>64</td></tr>\n",
       "<tr><td>7</td><td>7</td><td>SUSPECT</td><td>Source footprint includes suspect pixels</td><td>orangered</td><td>128</td></tr>\n",
       "<tr><td>8</td><td>8</td><td>NO_DATA</td><td>No useful data</td><td>black</td><td>256</td></tr>\n",
       "<tr><td>9</td><td>9</td><td>BRIGHT_OBJECT</td><td>Bright star mask</td><td>tab:brown</td><td>512</td></tr>\n",
       "<tr><td>10</td><td>10</td><td>CROSSTALK</td><td>Crosstalk</td><td>rosybrown</td><td>1024</td></tr>\n",
       "<tr><td>11</td><td>11</td><td>NOT_DEBLENDED</td><td>Pixel in footprint that is too large to deblend</td><td>teal</td><td>2048</td></tr>\n",
       "<tr><td>12</td><td>12</td><td>UNMASKEDNAN</td><td>NaN pixels that are interpolated over</td><td>darkgreen</td><td>4096</td></tr>\n",
       "<tr><td>13</td><td>13</td><td>REJECTED</td><td>Rejected due to a mask other than EDGE, NO_DATA, or CLIPPED</td><td>violet</td><td>8192</td></tr>\n",
       "<tr><td>14</td><td>14</td><td>CLIPPED</td><td>Pixel that has been clipped</td><td>crimson</td><td>16384</td></tr>\n",
       "<tr><td>15</td><td>15</td><td>SENSOR_EDGE</td><td>Pixel close to the edge of CCD sensor</td><td>tab:olive</td><td>32768</td></tr>\n",
       "<tr><td>16</td><td>16</td><td>INEXACT_PSF</td><td>PSF is not correct</td><td>gold</td><td>65536</td></tr>\n",
       "</table><style>table.dataTable {clear: both; width: auto !important; margin: 0 !important;}\n",
       ".dataTables_info, .dataTables_length, .dataTables_filter, .dataTables_paginate{\n",
       "display: inline-block; margin-right: 1em; }\n",
       ".paginate_button { margin-right: 5px; }\n",
       "</style>\n",
       "<script>\n",
       "\n",
       "var astropy_sort_num = function(a, b) {\n",
       "    var a_num = parseFloat(a);\n",
       "    var b_num = parseFloat(b);\n",
       "\n",
       "    if (isNaN(a_num) && isNaN(b_num))\n",
       "        return ((a < b) ? -1 : ((a > b) ? 1 : 0));\n",
       "    else if (!isNaN(a_num) && !isNaN(b_num))\n",
       "        return ((a_num < b_num) ? -1 : ((a_num > b_num) ? 1 : 0));\n",
       "    else\n",
       "        return isNaN(a_num) ? -1 : 1;\n",
       "}\n",
       "\n",
       "require.config({paths: {\n",
       "    datatables: 'https://cdn.datatables.net/1.10.12/js/jquery.dataTables.min'\n",
       "}});\n",
       "require([\"datatables\"], function(){\n",
       "    console.log(\"$('#table5224703984-534364').dataTable()\");\n",
       "    \n",
       "jQuery.extend( jQuery.fn.dataTableExt.oSort, {\n",
       "    \"optionalnum-asc\": astropy_sort_num,\n",
       "    \"optionalnum-desc\": function (a,b) { return -astropy_sort_num(a, b); }\n",
       "});\n",
       "\n",
       "    $('#table5224703984-534364').dataTable({\n",
       "        order: [],\n",
       "        pageLength: 50,\n",
       "        lengthMenu: [[10, 25, 50, 100, 500, 1000, -1], [10, 25, 50, 100, 500, 1000, 'All']],\n",
       "        pagingType: \"full_numbers\",\n",
       "        columnDefs: [{targets: [0, 1, 5], type: \"optionalnum\"}]\n",
       "    });\n",
       "});\n",
       "</script>\n"
      ],
      "text/plain": [
       "<IPython.core.display.HTML object>"
      ]
     },
     "execution_count": 566,
     "metadata": {},
     "output_type": "execute_result"
    }
   ],
   "source": [
    "# BitMasks class holds information about the mask planes for a given dataset. \n",
    "s18a_mask = mask.BitMasks(data_release='s18a')\n",
    "\n",
    "s18a_mask.show_table()"
   ]
  },
  {
   "cell_type": "code",
   "execution_count": 567,
   "metadata": {},
   "outputs": [
    {
     "data": {
      "text/plain": [
       "True"
      ]
     },
     "execution_count": 567,
     "metadata": {},
     "output_type": "execute_result"
    }
   ],
   "source": [
    "# Check whether a mask plane is available\n",
    "s18a_mask.check('CLIPPED')"
   ]
  },
  {
   "cell_type": "code",
   "execution_count": 568,
   "metadata": {},
   "outputs": [
    {
     "data": {
      "text/plain": [
       "5"
      ]
     },
     "execution_count": 568,
     "metadata": {},
     "output_type": "execute_result"
    }
   ],
   "source": [
    "# Get the index of a mask plane in the \"library\"\n",
    "s18a_mask.get_index('DETECTED')"
   ]
  },
  {
   "cell_type": "markdown",
   "metadata": {},
   "source": [
    "#### Using the HSC mask plane \n",
    "\n",
    "* `mask` locates in the 2nd HDU of a HSC coadd image."
   ]
  },
  {
   "cell_type": "code",
   "execution_count": 608,
   "metadata": {},
   "outputs": [],
   "source": [
    "bitmask = cutout_test[2].data\n",
    "\n",
    "mask_test = mask.Mask(bitmask, data_release='s18a')"
   ]
  },
  {
   "cell_type": "markdown",
   "metadata": {},
   "source": [
    "#### Extract a single layer of mask \n",
    "\n",
    "* Use the `extract()` method, you can use the name of the mask plane or the bit value as input\n",
    "* Default output format is `np.uint8` (pixel value 1 means masked, 0 means unmasked).\n",
    "* The `show=True` option will return a `np.uint16` version of the mask array to display\n",
    "* You can display this layer of mask using the `display()` method."
   ]
  },
  {
   "cell_type": "code",
   "execution_count": 439,
   "metadata": {},
   "outputs": [],
   "source": [
    "mask_1 = mask_test.extract('DETECTED')\n",
    "mask_2 = mask_test.extract(5)\n",
    "\n",
    "assert np.all(mask_1 == mask_2)"
   ]
  },
  {
   "cell_type": "code",
   "execution_count": 558,
   "metadata": {},
   "outputs": [
    {
     "data": {
      "image/png": "[encoded data removed]",
      "text/plain": [
       "<Figure size 576x576 with 1 Axes>"
      ]
     },
     "metadata": {},
     "output_type": "display_data"
    }
   ],
   "source": [
    "_ = mask_test.display('DETECTED')"
   ]
  },
  {
   "cell_type": "markdown",
   "metadata": {},
   "source": [
    "* It is also possible to extract or display multiple layers of masks at the same time"
   ]
  },
  {
   "cell_type": "code",
   "execution_count": 559,
   "metadata": {},
   "outputs": [
    {
     "data": {
      "image/png": "[encoded data removed]",
      "text/plain": [
       "<Figure size 432x432 with 1 Axes>"
      ]
     },
     "metadata": {},
     "output_type": "display_data"
    }
   ],
   "source": [
    "mask_3 = mask_test.extract(['DETECTED', 'INTRP', 'SAT'])\n",
    "\n",
    "_ = mask_test.display(['DETECTED', 'INTRP'], alpha_list=[0.9, 0.8])"
   ]
  },
  {
   "cell_type": "markdown",
   "metadata": {},
   "source": [
    "### Enlarge the mask by convolving it with a Gaussian kernel"
   ]
  },
  {
   "cell_type": "code",
   "execution_count": 560,
   "metadata": {},
   "outputs": [
    {
     "data": {
      "image/png": "[encoded data removed]",
      "text/plain": [
       "<Figure size 576x576 with 1 Axes>"
      ]
     },
     "metadata": {},
     "output_type": "display_data"
    }
   ],
   "source": [
    "_ = plotting.display_single(\n",
    "    mask_test.enlarge('DETECTED', sigma=2.0), stretch='linear',\n",
    "    cmap=mask_test.get_cmap('DETECTED'), alpha=0.8)"
   ]
  },
  {
   "cell_type": "markdown",
   "metadata": {},
   "source": [
    "#### Combine multiple layers of masks"
   ]
  },
  {
   "cell_type": "code",
   "execution_count": 561,
   "metadata": {},
   "outputs": [
    {
     "data": {
      "image/png": "[encoded data removed]",
      "text/plain": [
       "<Figure size 576x576 with 1 Axes>"
      ]
     },
     "metadata": {},
     "output_type": "display_data"
    }
   ],
   "source": [
    "_ = plotting.display_single(\n",
    "    mask_test.combine(['DETECTED', 'INTRP']), stretch='linear',\n",
    "    cmap=mask_test.get_cmap('DETECTED'), alpha=0.8)"
   ]
  },
  {
   "cell_type": "markdown",
   "metadata": {},
   "source": [
    "#### Remove one or multiple layers of masks"
   ]
  },
  {
   "cell_type": "code",
   "execution_count": 593,
   "metadata": {},
   "outputs": [
    {
     "data": {
      "image/png": "[encoded data removed]",
      "text/plain": [
       "<Figure size 576x576 with 1 Axes>"
      ]
     },
     "metadata": {},
     "output_type": "display_data"
    }
   ],
   "source": [
    "_ = plotting.display_single(\n",
    "    mask_test.clean(['DETECTED', 'INTRP']), stretch='linear',\n",
    "    cmap=mask_test.get_cmap('DETECTED'), alpha=0.8)"
   ]
  },
  {
   "cell_type": "markdown",
   "metadata": {},
   "source": [
    "### Identify and display the used mask planes"
   ]
  },
  {
   "cell_type": "code",
   "execution_count": 655,
   "metadata": {},
   "outputs": [
    {
     "name": "stdout",
     "output_type": "stream",
     "text": [
      "['INTRP', 'CR', 'DETECTED', 'BRIGHT_OBJECT', 'REJECTED', 'CLIPPED', 'SENSOR_EDGE', 'INEXACT_PSF']\n"
     ]
    }
   ],
   "source": [
    "# Names of the mask planes that are used \n",
    "print(mask_test.name_used())"
   ]
  },
  {
   "cell_type": "code",
   "execution_count": 660,
   "metadata": {},
   "outputs": [
    {
     "data": {
      "image/png": "[encoded data removed]",
      "text/plain": [
       "<Figure size 864x432 with 8 Axes>"
      ]
     },
     "metadata": {},
     "output_type": "display_data"
    }
   ],
   "source": [
    "_, mm = mask_test.show_used()"
   ]
  }
 ],
 "metadata": {
  "kernelspec": {
   "display_name": "Python 3",
   "language": "python",
   "name": "python3"
  },
  "language_info": {
   "codemirror_mode": {
    "name": "ipython",
    "version": 3
   },
   "file_extension": ".py",
   "mimetype": "text/x-python",
   "name": "python",
   "nbconvert_exporter": "python",
   "pygments_lexer": "ipython3",
   "version": "3.7.3"
  }
 },
 "nbformat": 4,
 "nbformat_minor": 2
}
