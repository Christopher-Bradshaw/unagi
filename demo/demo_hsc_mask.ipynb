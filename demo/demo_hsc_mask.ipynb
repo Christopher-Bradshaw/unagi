{
 "cells": [
  {
   "cell_type": "code",
   "execution_count": 1,
   "metadata": {},
   "outputs": [],
   "source": [
    "%matplotlib inline\n",
    "%load_ext autoreload\n",
    "%autoreload 2\n",
    "\n",
    "import os\n",
    "import sys\n",
    "\n",
    "import numpy as np\n",
    "\n",
    "import astropy.units as u\n",
    "from astropy import wcs\n",
    "from astropy.io import fits\n",
    "from astropy.coordinates import SkyCoord\n",
    "from astropy.visualization import make_lupton_rgb\n",
    "from astropy.utils.data import download_file, clear_download_cache\n",
    "\n",
    "import matplotlib.pyplot as plt"
   ]
  },
  {
   "cell_type": "code",
   "execution_count": 53,
   "metadata": {},
   "outputs": [],
   "source": [
    "from unagi import hsc\n",
    "from unagi import mask\n",
    "from unagi import config\n",
    "from unagi import plotting\n",
    "from unagi.task import hsc_cutout\n",
    "\n",
    "s18a = hsc.Hsc(dr='dr2', rerun='s18a_wide')"
   ]
  },
  {
   "cell_type": "markdown",
   "metadata": {},
   "source": [
    "### Example of a mask plane"
   ]
  },
  {
   "cell_type": "code",
   "execution_count": 428,
   "metadata": {},
   "outputs": [
    {
     "name": "stdout",
     "output_type": "stream",
     "text": [
      "# Retrieving cutout image in filter: i\n"
     ]
    }
   ],
   "source": [
    "# Download an example mask plane\n",
    "coord = SkyCoord(150.0913, 2.2059, frame='icrs', unit='deg')\n",
    "\n",
    "cutout_test = hsc_cutout(coord, cutout_size=20.0 * u.arcsec, filters='i', archive=s18a, \n",
    "                         use_saved=False, verbose=True, save_output=False, mask=True)"
   ]
  },
  {
   "cell_type": "markdown",
   "metadata": {},
   "source": [
    "#### \"Library\" of mask planes\n",
    "\n",
    "* HSC data reduced by different versions of `hscPipe` have different number and definitions for the bitmask planes. \n",
    "* For example, `PDR1` has 16 allowed bitmask planes, while internal `DR2` has 32 mask planes.  \n",
    "* Not all mask planes are used, some of them are just placeholders for future usage."
   ]
  },
  {
   "cell_type": "code",
   "execution_count": 417,
   "metadata": {},
   "outputs": [
    {
     "data": {
      "text/html": [
       "<i>Table length=17</i>\n",
       "<table id=\"table5251587432-406931\" class=\"table-striped table-bordered table-condensed\">\n",
       "<thead><tr><th>idx</th><th>bits</th><th>name</th><th>meaning</th><th>color</th><th>value</th></tr></thead>\n",
       "<tr><td>0</td><td>0</td><td>BAD</td><td>Bad pixel</td><td>red</td><td>1</td></tr>\n",
       "<tr><td>1</td><td>1</td><td>SAT</td><td>Source footprint includes saturated pixels</td><td>tab:purple</td><td>2</td></tr>\n",
       "<tr><td>2</td><td>2</td><td>INTRP</td><td>Source footprint includes interpolated pixels</td><td>tab:orange</td><td>4</td></tr>\n",
       "<tr><td>3</td><td>3</td><td>CR</td><td>Source footprint includes suspected CR pixels</td><td>tab:pink</td><td>8</td></tr>\n",
       "<tr><td>4</td><td>4</td><td>EDGE</td><td>Source is close to the edge of the CCD</td><td>tab:olive</td><td>16</td></tr>\n",
       "<tr><td>5</td><td>5</td><td>DETECTED</td><td>Pixel with detection above the threshold</td><td>tab:blue</td><td>32</td></tr>\n",
       "<tr><td>6</td><td>6</td><td>DETECTED_NEGATIVE</td><td>Pixel in footprint that is detected as a negative object</td><td>gray</td><td>64</td></tr>\n",
       "<tr><td>7</td><td>7</td><td>SUSPECT</td><td>Source footprint includes suspect pixels</td><td>orangered</td><td>128</td></tr>\n",
       "<tr><td>8</td><td>8</td><td>NO_DATA</td><td>No useful data</td><td>black</td><td>256</td></tr>\n",
       "<tr><td>9</td><td>9</td><td>BRIGHT_OBJECT</td><td>Bright star mask</td><td>tab:brown</td><td>512</td></tr>\n",
       "<tr><td>10</td><td>10</td><td>CROSSTALK</td><td>Crosstalk</td><td>rosybrown</td><td>1024</td></tr>\n",
       "<tr><td>11</td><td>11</td><td>NOT_DEBLENDED</td><td>Pixel in footprint that is too large to deblend</td><td>teal</td><td>2048</td></tr>\n",
       "<tr><td>12</td><td>12</td><td>UNMASKEDNAN</td><td>NaN pixels that are interpolated over</td><td>darkgreen</td><td>4096</td></tr>\n",
       "<tr><td>13</td><td>13</td><td>REJECTED</td><td>Rejected due to a mask other than EDGE, NO_DATA, or CLIPPED</td><td>violet</td><td>8192</td></tr>\n",
       "<tr><td>14</td><td>14</td><td>CLIPPED</td><td>Pixel that has been clipped</td><td>crimson</td><td>16384</td></tr>\n",
       "<tr><td>15</td><td>15</td><td>SENSOR_EDGE</td><td>Pixel close to the edge of CCD sensor</td><td>tab:olive</td><td>32768</td></tr>\n",
       "<tr><td>16</td><td>16</td><td>INEXACT_PSF</td><td>PSF is not correct</td><td>gold</td><td>65536</td></tr>\n",
       "</table><style>table.dataTable {clear: both; width: auto !important; margin: 0 !important;}\n",
       ".dataTables_info, .dataTables_length, .dataTables_filter, .dataTables_paginate{\n",
       "display: inline-block; margin-right: 1em; }\n",
       ".paginate_button { margin-right: 5px; }\n",
       "</style>\n",
       "<script>\n",
       "\n",
       "var astropy_sort_num = function(a, b) {\n",
       "    var a_num = parseFloat(a);\n",
       "    var b_num = parseFloat(b);\n",
       "\n",
       "    if (isNaN(a_num) && isNaN(b_num))\n",
       "        return ((a < b) ? -1 : ((a > b) ? 1 : 0));\n",
       "    else if (!isNaN(a_num) && !isNaN(b_num))\n",
       "        return ((a_num < b_num) ? -1 : ((a_num > b_num) ? 1 : 0));\n",
       "    else\n",
       "        return isNaN(a_num) ? -1 : 1;\n",
       "}\n",
       "\n",
       "require.config({paths: {\n",
       "    datatables: 'https://cdn.datatables.net/1.10.12/js/jquery.dataTables.min'\n",
       "}});\n",
       "require([\"datatables\"], function(){\n",
       "    console.log(\"$('#table5251587432-406931').dataTable()\");\n",
       "    \n",
       "jQuery.extend( jQuery.fn.dataTableExt.oSort, {\n",
       "    \"optionalnum-asc\": astropy_sort_num,\n",
       "    \"optionalnum-desc\": function (a,b) { return -astropy_sort_num(a, b); }\n",
       "});\n",
       "\n",
       "    $('#table5251587432-406931').dataTable({\n",
       "        order: [],\n",
       "        pageLength: 50,\n",
       "        lengthMenu: [[10, 25, 50, 100, 500, 1000, -1], [10, 25, 50, 100, 500, 1000, 'All']],\n",
       "        pagingType: \"full_numbers\",\n",
       "        columnDefs: [{targets: [0, 1, 5], type: \"optionalnum\"}]\n",
       "    });\n",
       "});\n",
       "</script>\n"
      ],
      "text/plain": [
       "<IPython.core.display.HTML object>"
      ]
     },
     "execution_count": 417,
     "metadata": {},
     "output_type": "execute_result"
    }
   ],
   "source": [
    "# BitMasks class holds information about the mask planes for a given dataset. \n",
    "s18a_mask = mask.BitMasks(data_release='s18a')\n",
    "\n",
    "s18a_mask.show_table()"
   ]
  },
  {
   "cell_type": "markdown",
   "metadata": {},
   "source": [
    "#### Using the HSC mask plane \n",
    "\n",
    "* `mask` locates in the 2nd HDU of a HSC coadd image."
   ]
  },
  {
   "cell_type": "code",
   "execution_count": 426,
   "metadata": {},
   "outputs": [],
   "source": [
    "bitmask = cutout_test[2].data\n",
    "\n",
    "mask_test = mask.Mask(bitmask, data_release='s18a')"
   ]
  },
  {
   "cell_type": "markdown",
   "metadata": {},
   "source": [
    "#### Extract a single layer of mask \n",
    "\n",
    "* Use the `extract()` method, you can use the name of the mask plane or the bit value as input\n",
    "* Default output format is `np.uint8` (pixel value 1 means masked, 0 means unmasked).\n",
    "* The `show=True` option will return a `np.uint16` version of the mask array to display\n",
    "* You can display this layer of mask using the `display()` method."
   ]
  },
  {
   "cell_type": "code",
   "execution_count": 439,
   "metadata": {},
   "outputs": [],
   "source": [
    "mask_1 = mask_test.extract('DETECTED')\n",
    "mask_2 = mask_test.extract(5)\n",
    "\n",
    "assert np.all(mask_1 == mask_2)"
   ]
  },
  {
   "cell_type": "code",
   "execution_count": 441,
   "metadata": {},
   "outputs": [
    {
     "data": {
      "image/png": "[encoded data removed]",
      "text/plain": [
       "<Figure size 576x576 with 1 Axes>"
      ]
     },
     "metadata": {},
     "output_type": "display_data"
    }
   ],
   "source": [
    "_ = mask_test.display('DETECTED')"
   ]
  },
  {
   "cell_type": "markdown",
   "metadata": {},
   "source": [
    "* It is also possible to extract or display multiple layers of masks at the same time"
   ]
  },
  {
   "cell_type": "code",
   "execution_count": 449,
   "metadata": {},
   "outputs": [
    {
     "data": {
      "image/png": "[encoded data removed]",
      "text/plain": [
       "<Figure size 432x432 with 1 Axes>"
      ]
     },
     "metadata": {},
     "output_type": "display_data"
    }
   ],
   "source": [
    "mask_3 = mask_test.extract(['DETECTED', 'INTRP', 'SAT'])\n",
    "\n",
    "_ = mask_test.display(['DETECTED', 'INTRP', 'SAT'], alpha_list=[1.0, 0.6, 0.5])"
   ]
  },
  {
   "cell_type": "markdown",
   "metadata": {},
   "source": [
    "#### Combine multiple layers of masks"
   ]
  },
  {
   "cell_type": "code",
   "execution_count": null,
   "metadata": {},
   "outputs": [],
   "source": []
  },
  {
   "cell_type": "code",
   "execution_count": null,
   "metadata": {},
   "outputs": [],
   "source": []
  },
  {
   "cell_type": "markdown",
   "metadata": {},
   "source": [
    "#### Remove one or multiple layers of masks"
   ]
  },
  {
   "cell_type": "code",
   "execution_count": null,
   "metadata": {},
   "outputs": [],
   "source": []
  },
  {
   "cell_type": "code",
   "execution_count": null,
   "metadata": {},
   "outputs": [],
   "source": []
  },
  {
   "cell_type": "code",
   "execution_count": null,
   "metadata": {},
   "outputs": [],
   "source": []
  },
  {
   "cell_type": "code",
   "execution_count": 99,
   "metadata": {},
   "outputs": [
    {
     "name": "stdout",
     "output_type": "stream",
     "text": [
      "3.14 ms ± 36.1 µs per loop (mean ± std. dev. of 7 runs, 100 loops each)\n"
     ]
    }
   ],
   "source": [
    "%%timeit \n",
    "\n",
    "mask_test = mask.Mask(bitmask)"
   ]
  },
  {
   "cell_type": "code",
   "execution_count": 152,
   "metadata": {},
   "outputs": [],
   "source": [
    "s18a_mask = mask.BitMasks(data_release='s18a')\n",
    "\n",
    "mask_test = mask.Mask(bitmask)"
   ]
  },
  {
   "cell_type": "code",
   "execution_count": 134,
   "metadata": {},
   "outputs": [
    {
     "data": {
      "image/png": "[encoded data removed]",
      "text/plain": [
       "<Figure size 576x576 with 1 Axes>"
      ]
     },
     "metadata": {},
     "output_type": "display_data"
    }
   ],
   "source": [
    "_ = plotting.display_single(mask_test.extract('DETECTED', show=True), \n",
    "                            scale='linear', cmap=mask_test.mask_cmap('DETECTED'), \n",
    "                            alpha=0.6)"
   ]
  },
  {
   "cell_type": "code",
   "execution_count": 126,
   "metadata": {},
   "outputs": [
    {
     "name": "stdout",
     "output_type": "stream",
     "text": [
      "6.77 µs ± 191 ns per loop (mean ± std. dev. of 7 runs, 100000 loops each)\n"
     ]
    }
   ],
   "source": [
    "%%timeit\n",
    "\n",
    "_ = mask_test.extract('INTRP')"
   ]
  },
  {
   "cell_type": "code",
   "execution_count": 138,
   "metadata": {},
   "outputs": [
    {
     "data": {
      "image/png": "[encoded data removed]",
      "text/plain": [
       "<Figure size 576x576 with 1 Axes>"
      ]
     },
     "metadata": {},
     "output_type": "display_data"
    }
   ],
   "source": [
    "_ = plotting.display_single(mask_test.enlarge('DETECTED').astype(float), \n",
    "                            scale='linear', cmap=mask_test.mask_cmap('DETECTED'), \n",
    "                            alpha=0.6)"
   ]
  },
  {
   "cell_type": "code",
   "execution_count": 147,
   "metadata": {},
   "outputs": [
    {
     "data": {
      "image/png": "[encoded data removed]",
      "text/plain": [
       "<Figure size 576x576 with 1 Axes>"
      ]
     },
     "metadata": {},
     "output_type": "display_data"
    }
   ],
   "source": [
    "ll = [mask_test.extract('DETECTED'), mask_test.extract('CLIPPED'), mask_test.extract('SAT')]\n",
    "\n",
    "np.bitwise_or.reduce(ll)\n",
    "_ = plotting.display_single(\n",
    "    np.bitwise_or.reduce(ll).astype(float), scale='linear')"
   ]
  },
  {
   "cell_type": "code",
   "execution_count": 151,
   "metadata": {},
   "outputs": [
    {
     "data": {
      "image/png": "[encoded data removed]",
      "text/plain": [
       "<Figure size 576x576 with 1 Axes>"
      ]
     },
     "metadata": {},
     "output_type": "display_data"
    }
   ],
   "source": [
    "_ = plotting.display_single((mask_test.combine(['DETECTED'])).astype(float), scale='linear')"
   ]
  },
  {
   "cell_type": "code",
   "execution_count": 185,
   "metadata": {},
   "outputs": [
    {
     "data": {
      "text/plain": [
       "(239, 239)"
      ]
     },
     "execution_count": 185,
     "metadata": {},
     "output_type": "execute_result"
    }
   ],
   "source": [
    "mask_test.clean(['DETECTED', 'BAD']).astype(float).shape"
   ]
  },
  {
   "cell_type": "code",
   "execution_count": 183,
   "metadata": {},
   "outputs": [],
   "source": [
    "aa = np.delete(mask_test.masks, (2), axis=2)"
   ]
  },
  {
   "cell_type": "code",
   "execution_count": 169,
   "metadata": {},
   "outputs": [],
   "source": [
    "mask_test = mask.Mask(bitmask)"
   ]
  },
  {
   "cell_type": "code",
   "execution_count": 193,
   "metadata": {},
   "outputs": [],
   "source": [
    "a = [mask_test.masks[:, :, ii].sum() > 0 for ii in np.arange(mask_test.masks.shape[2])]"
   ]
  },
  {
   "cell_type": "code",
   "execution_count": 196,
   "metadata": {},
   "outputs": [
    {
     "data": {
      "text/plain": [
       "7"
      ]
     },
     "execution_count": 196,
     "metadata": {},
     "output_type": "execute_result"
    }
   ],
   "source": [
    "np.sum(a)"
   ]
  },
  {
   "cell_type": "code",
   "execution_count": 199,
   "metadata": {},
   "outputs": [
    {
     "data": {
      "text/plain": [
       "(239, 239, 7)"
      ]
     },
     "execution_count": 199,
     "metadata": {},
     "output_type": "execute_result"
    }
   ],
   "source": [
    "mask_test.masks[:, :, a]"
   ]
  },
  {
   "cell_type": "code",
   "execution_count": 202,
   "metadata": {},
   "outputs": [
    {
     "data": {
      "text/plain": [
       "array([( 0, 'BAD', 'Bad pixel', 'red'),\n",
       "       ( 1, 'SAT', 'Source footprint includes saturated pixels', 'tab:purple'),\n",
       "       ( 2, 'INTRP', 'Source footprint includes interpolated pixels', 'tab:orange'),\n",
       "       ( 3, 'CR', 'Source footprint includes suspected CR pixels', 'tab:pink'),\n",
       "       ( 4, 'EDGE', 'Source is close to the edge of the CCD', 'tab:olive'),\n",
       "       ( 5, 'DETECTED', 'Pixel with detection above the threshold', 'tab:blue'),\n",
       "       ( 6, 'DETECTED_N', 'Pixel in footprint that is detected as a negative object', 'gray'),\n",
       "       ( 7, 'SUSPECT', 'Source footprint includes suspect pixels', 'orangered'),\n",
       "       ( 8, 'NO_DATA', 'No useful data', 'black'),\n",
       "       ( 9, 'BRIGHT_OBJ', 'Bright star mask', 'tab:brown'),\n",
       "       (10, 'CROSSTALK', 'Crosstalk', 'rosybrown'),\n",
       "       (11, 'NOT_DEBLEN', 'Pixel in footprint that is too large to deblend', 'teal'),\n",
       "       (12, 'UNMASKEDNA', 'NaN pixels that are interpolated over', 'darkgreen'),\n",
       "       (13, 'REJECTED', 'Rejected due to a mask other than EDGE, NO_DATA, or CLIPPED', 'violet'),\n",
       "       (14, 'CLIPPED', 'Pixel that has been clipped', 'crimson'),\n",
       "       (15, 'SENSOR_EDG', 'Pixel close to the edge of CCD sensor', 'tab:olive'),\n",
       "       (16, 'INEXACT_PS', 'PSF is not correct', 'gold')],\n",
       "      dtype=[('bits', 'u1'), ('name', '<U10'), ('meaning', '<U80'), ('color', '<U10')])"
      ]
     },
     "execution_count": 202,
     "metadata": {},
     "output_type": "execute_result"
    }
   ],
   "source": [
    "mask_test.table"
   ]
  },
  {
   "cell_type": "code",
   "execution_count": 210,
   "metadata": {},
   "outputs": [
    {
     "data": {
      "text/plain": [
       "(239, 3824)"
      ]
     },
     "execution_count": 210,
     "metadata": {},
     "output_type": "execute_result"
    }
   ],
   "source": [
    "np.unpackbits(bitmask.view(np.uint8), axis=1).shape"
   ]
  },
  {
   "cell_type": "code",
   "execution_count": 239,
   "metadata": {},
   "outputs": [
    {
     "data": {
      "text/plain": [
       "106528.0"
      ]
     },
     "execution_count": 239,
     "metadata": {},
     "output_type": "execute_result"
    }
   ],
   "source": [
    "bitmask = cutout_test[2].data\n",
    "bitmask.max()"
   ]
  },
  {
   "cell_type": "code",
   "execution_count": 218,
   "metadata": {},
   "outputs": [
    {
     "data": {
      "text/plain": [
       "array([[0, 0, 0, ..., 0, 0, 0],\n",
       "       [0, 0, 0, ..., 0, 0, 0],\n",
       "       [0, 0, 0, ..., 0, 0, 0],\n",
       "       ...,\n",
       "       [0, 0, 0, ..., 0, 0, 0],\n",
       "       [0, 0, 0, ..., 0, 0, 0],\n",
       "       [0, 0, 0, ..., 0, 0, 0]], dtype=uint8)"
      ]
     },
     "execution_count": 218,
     "metadata": {},
     "output_type": "execute_result"
    }
   ],
   "source": [
    "mask_test.masks[:, :, 15]"
   ]
  },
  {
   "cell_type": "code",
   "execution_count": 230,
   "metadata": {},
   "outputs": [
    {
     "data": {
      "text/plain": [
       "65536"
      ]
     },
     "execution_count": 230,
     "metadata": {},
     "output_type": "execute_result"
    }
   ],
   "source": [
    "2 ** 16"
   ]
  },
  {
   "cell_type": "code",
   "execution_count": 220,
   "metadata": {},
   "outputs": [],
   "source": [
    "bitmask += 2**16"
   ]
  },
  {
   "cell_type": "code",
   "execution_count": 240,
   "metadata": {},
   "outputs": [
    {
     "data": {
      "text/plain": [
       "(239, 239, 64)"
      ]
     },
     "execution_count": 240,
     "metadata": {},
     "output_type": "execute_result"
    }
   ],
   "source": [
    "mask_test.decode(bitmask).shape"
   ]
  },
  {
   "cell_type": "code",
   "execution_count": 223,
   "metadata": {},
   "outputs": [
    {
     "data": {
      "text/plain": [
       "array([[    0,     0,     0, ...,     0,     0,     0],\n",
       "       [    0,     0,     0, ...,     0,     0,     0],\n",
       "       [    0,     0,     0, ...,     0,     0,     0],\n",
       "       ...,\n",
       "       [24576, 24576, 24576, ...,  8192,  8192,  8224],\n",
       "       [24576, 24576, 24576, ...,  8192,  8224,  8224],\n",
       "       [24576, 24576, 24576, ...,  8224,  8224,  8224]], dtype=uint16)"
      ]
     },
     "execution_count": 223,
     "metadata": {},
     "output_type": "execute_result"
    }
   ],
   "source": [
    "bitmask"
   ]
  },
  {
   "cell_type": "code",
   "execution_count": 224,
   "metadata": {},
   "outputs": [],
   "source": [
    "bitmask = bitmask + (2**16)"
   ]
  },
  {
   "cell_type": "code",
   "execution_count": 345,
   "metadata": {},
   "outputs": [],
   "source": [
    "def decode(bitmask):\n",
    "    '''\n",
    "    Convert HSC binary mask to a 3-D array,\n",
    "    with binary digits located in the third axis.\n",
    "\n",
    "    Parameters:\n",
    "    -----------\n",
    "    bin_msk: 2-D np.array, can be loaded from HSC image cutouts\n",
    "\n",
    "    The code is based on convert_HSC_binary_mask() function by Jia-Xuan Li\n",
    "    see: https://github.com/AstroJacobLi/slug/blob/master/slug/imutils.py\n",
    "    '''\n",
    "    temp = np.array(\n",
    "        np.hsplit(np.unpackbits(bitmask.view(np.uint8), axis=1), bitmask.shape[1]))\n",
    "\n",
    "    decode_mask = np.flip(np.transpose(\n",
    "        np.concatenate(np.flip(np.array(np.dsplit(temp, 2)), axis=0), axis=2),\n",
    "        axes=(1, 0, 2)), axis=2)\n",
    "\n",
    "    return decode_mask"
   ]
  },
  {
   "cell_type": "code",
   "execution_count": 406,
   "metadata": {},
   "outputs": [
    {
     "data": {
      "text/plain": [
       "(239, 239, 32)"
      ]
     },
     "execution_count": 406,
     "metadata": {},
     "output_type": "execute_result"
    }
   ],
   "source": [
    "bitmask = cutout_test[2].data\n",
    "\n",
    "a = decode(np.array(bitmask, dtype=np.uint32))\n",
    "\n",
    "a.shape"
   ]
  },
  {
   "cell_type": "code",
   "execution_count": 409,
   "metadata": {},
   "outputs": [
    {
     "data": {
      "image/png": "[encoded data removed]",
      "text/plain": [
       "<Figure size 576x576 with 1 Axes>"
      ]
     },
     "metadata": {},
     "output_type": "display_data"
    }
   ],
   "source": [
    "_ = plotting.display_single(a[:, :, 1].astype(float), \n",
    "                            scale='linear', cmap=mask_cmap, alpha=0.6)"
   ]
  },
  {
   "cell_type": "code",
   "execution_count": 410,
   "metadata": {},
   "outputs": [
    {
     "data": {
      "image/png": "[encoded data removed]",
      "text/plain": [
       "<Figure size 576x576 with 1 Axes>"
      ]
     },
     "metadata": {},
     "output_type": "display_data"
    }
   ],
   "source": [
    "_ = plotting.display_single(a[:, :, 5].astype(float), \n",
    "                            scale='linear', cmap=mask_cmap, alpha=0.6)"
   ]
  },
  {
   "cell_type": "code",
   "execution_count": 415,
   "metadata": {},
   "outputs": [
    {
     "data": {
      "image/png": "[encoded data removed]",
      "text/plain": [
       "<Figure size 576x576 with 1 Axes>"
      ]
     },
     "metadata": {},
     "output_type": "display_data"
    }
   ],
   "source": [
    "_ = plotting.display_single(\n",
    "    bitmask.astype(np.uint32) & (2 ** 9), scale='linear')"
   ]
  },
  {
   "cell_type": "code",
   "execution_count": null,
   "metadata": {},
   "outputs": [],
   "source": []
  }
 ],
 "metadata": {
  "kernelspec": {
   "display_name": "Python 3",
   "language": "python",
   "name": "python3"
  },
  "language_info": {
   "codemirror_mode": {
    "name": "ipython",
    "version": 3
   },
   "file_extension": ".py",
   "mimetype": "text/x-python",
   "name": "python",
   "nbconvert_exporter": "python",
   "pygments_lexer": "ipython3",
   "version": "3.7.3"
  }
 },
 "nbformat": 4,
 "nbformat_minor": 2
}
